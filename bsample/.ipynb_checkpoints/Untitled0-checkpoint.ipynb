{
 "metadata": {
  "name": "",
  "signature": "sha256:7e3365a5f8e4a97d96c9407007103313d312d1eca19fdaa36cbfa47bc9950913"
 },
 "nbformat": 3,
 "nbformat_minor": 0,
 "worksheets": []
}