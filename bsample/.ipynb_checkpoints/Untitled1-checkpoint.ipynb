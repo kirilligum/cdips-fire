{
 "metadata": {
  "name": "",
  "signature": "sha256:ef476b7e579110fb69397110abb1e24787127e611ab41aa7103837fe858c6ea1"
 },
 "nbformat": 3,
 "nbformat_minor": 0,
 "worksheets": []
}